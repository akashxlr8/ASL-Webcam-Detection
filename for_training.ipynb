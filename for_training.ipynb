{
 "cells": [
  {
   "cell_type": "code",
   "execution_count": 6,
   "metadata": {
    "colab": {
     "base_uri": "https://localhost:8080/"
    },
    "id": "d5MxOo4meQ4e",
    "outputId": "26268f10-3b2b-4c69-bdba-a79a474cda50"
   },
   "outputs": [
    {
     "name": "stdout",
     "output_type": "stream",
     "text": [
      "Requirement already satisfied: ultralytics in c:\\users\\akash-omen\\anaconda3\\lib\\site-packages (8.0.16)\n",
      "Requirement already satisfied: sentry-sdk in c:\\users\\akash-omen\\anaconda3\\lib\\site-packages (from ultralytics) (1.25.1)\n",
      "Requirement already satisfied: torch>=1.7.0 in c:\\users\\akash-omen\\anaconda3\\lib\\site-packages (from ultralytics) (2.0.1)\n",
      "Requirement already satisfied: tensorboard>=2.4.1 in c:\\users\\akash-omen\\anaconda3\\lib\\site-packages (from ultralytics) (2.11.2)\n",
      "Requirement already satisfied: GitPython>=3.1.24 in c:\\users\\akash-omen\\anaconda3\\lib\\site-packages (from ultralytics) (3.1.31)\n",
      "Requirement already satisfied: numpy>=1.18.5 in c:\\users\\akash-omen\\anaconda3\\lib\\site-packages (from ultralytics) (1.23.5)\n",
      "Requirement already satisfied: seaborn>=0.11.0 in c:\\users\\akash-omen\\anaconda3\\lib\\site-packages (from ultralytics) (0.12.2)\n",
      "Requirement already satisfied: pandas>=1.1.4 in c:\\users\\akash-omen\\anaconda3\\lib\\site-packages (from ultralytics) (1.5.2)\n",
      "Requirement already satisfied: opencv-python>=4.1.1 in c:\\users\\akash-omen\\anaconda3\\lib\\site-packages (from ultralytics) (4.5.4.60)\n",
      "Requirement already satisfied: psutil in c:\\users\\akash-omen\\anaconda3\\lib\\site-packages (from ultralytics) (5.9.0)\n",
      "Requirement already satisfied: Pillow>=7.1.2 in c:\\users\\akash-omen\\anaconda3\\lib\\site-packages (from ultralytics) (9.3.0)\n",
      "Requirement already satisfied: PyYAML>=5.3.1 in c:\\users\\akash-omen\\anaconda3\\lib\\site-packages (from ultralytics) (5.4.1)\n",
      "Requirement already satisfied: matplotlib>=3.2.2 in c:\\users\\akash-omen\\anaconda3\\lib\\site-packages (from ultralytics) (3.6.2)\n",
      "Requirement already satisfied: tqdm>=4.64.0 in c:\\users\\akash-omen\\anaconda3\\lib\\site-packages (from ultralytics) (4.64.1)\n",
      "Requirement already satisfied: torchvision>=0.8.1 in c:\\users\\akash-omen\\anaconda3\\lib\\site-packages (from ultralytics) (0.15.2)\n",
      "Requirement already satisfied: thop>=0.1.1 in c:\\users\\akash-omen\\anaconda3\\lib\\site-packages (from ultralytics) (0.1.1.post2209072238)\n",
      "Requirement already satisfied: scipy>=1.4.1 in c:\\users\\akash-omen\\anaconda3\\lib\\site-packages (from ultralytics) (1.10.0)\n",
      "Requirement already satisfied: requests>=2.23.0 in c:\\users\\akash-omen\\anaconda3\\lib\\site-packages (from ultralytics) (2.28.1)\n",
      "Requirement already satisfied: ipython in c:\\users\\akash-omen\\anaconda3\\lib\\site-packages (from ultralytics) (7.31.1)\n",
      "Requirement already satisfied: gitdb<5,>=4.0.1 in c:\\users\\akash-omen\\anaconda3\\lib\\site-packages (from GitPython>=3.1.24->ultralytics) (4.0.10)\n",
      "Requirement already satisfied: python-dateutil>=2.7 in c:\\users\\akash-omen\\anaconda3\\lib\\site-packages (from matplotlib>=3.2.2->ultralytics) (2.8.2)\n",
      "Requirement already satisfied: packaging>=20.0 in c:\\users\\akash-omen\\anaconda3\\lib\\site-packages (from matplotlib>=3.2.2->ultralytics) (22.0)\n",
      "Requirement already satisfied: cycler>=0.10 in c:\\users\\akash-omen\\anaconda3\\lib\\site-packages (from matplotlib>=3.2.2->ultralytics) (0.11.0)\n",
      "Requirement already satisfied: contourpy>=1.0.1 in c:\\users\\akash-omen\\anaconda3\\lib\\site-packages (from matplotlib>=3.2.2->ultralytics) (1.0.5)\n",
      "Requirement already satisfied: kiwisolver>=1.0.1 in c:\\users\\akash-omen\\anaconda3\\lib\\site-packages (from matplotlib>=3.2.2->ultralytics) (1.4.4)\n",
      "Requirement already satisfied: fonttools>=4.22.0 in c:\\users\\akash-omen\\anaconda3\\lib\\site-packages (from matplotlib>=3.2.2->ultralytics) (4.25.0)\n",
      "Requirement already satisfied: pyparsing>=2.2.1 in c:\\users\\akash-omen\\anaconda3\\lib\\site-packages (from matplotlib>=3.2.2->ultralytics) (3.0.9)\n",
      "Requirement already satisfied: pytz>=2020.1 in c:\\users\\akash-omen\\anaconda3\\lib\\site-packages (from pandas>=1.1.4->ultralytics) (2022.7)\n",
      "Requirement already satisfied: certifi>=2017.4.17 in c:\\users\\akash-omen\\anaconda3\\lib\\site-packages (from requests>=2.23.0->ultralytics) (2022.12.7)\n",
      "Requirement already satisfied: charset-normalizer<3,>=2 in c:\\users\\akash-omen\\anaconda3\\lib\\site-packages (from requests>=2.23.0->ultralytics) (2.0.4)\n",
      "Requirement already satisfied: urllib3<1.27,>=1.21.1 in c:\\users\\akash-omen\\anaconda3\\lib\\site-packages (from requests>=2.23.0->ultralytics) (1.26.14)\n",
      "Requirement already satisfied: idna<4,>=2.5 in c:\\users\\akash-omen\\anaconda3\\lib\\site-packages (from requests>=2.23.0->ultralytics) (3.4)\n",
      "Requirement already satisfied: protobuf<4,>=3.9.2 in c:\\users\\akash-omen\\anaconda3\\lib\\site-packages (from tensorboard>=2.4.1->ultralytics) (3.19.6)\n",
      "Requirement already satisfied: tensorboard-data-server<0.7.0,>=0.6.0 in c:\\users\\akash-omen\\anaconda3\\lib\\site-packages (from tensorboard>=2.4.1->ultralytics) (0.6.1)\n",
      "Requirement already satisfied: wheel>=0.26 in c:\\users\\akash-omen\\anaconda3\\lib\\site-packages (from tensorboard>=2.4.1->ultralytics) (0.38.4)\n",
      "Requirement already satisfied: werkzeug>=1.0.1 in c:\\users\\akash-omen\\anaconda3\\lib\\site-packages (from tensorboard>=2.4.1->ultralytics) (2.2.2)\n",
      "Requirement already satisfied: tensorboard-plugin-wit>=1.6.0 in c:\\users\\akash-omen\\anaconda3\\lib\\site-packages (from tensorboard>=2.4.1->ultralytics) (1.8.1)\n",
      "Requirement already satisfied: google-auth<3,>=1.6.3 in c:\\users\\akash-omen\\anaconda3\\lib\\site-packages (from tensorboard>=2.4.1->ultralytics) (2.16.1)\n",
      "Requirement already satisfied: markdown>=2.6.8 in c:\\users\\akash-omen\\anaconda3\\lib\\site-packages (from tensorboard>=2.4.1->ultralytics) (3.4.1)\n",
      "Requirement already satisfied: setuptools>=41.0.0 in c:\\users\\akash-omen\\anaconda3\\lib\\site-packages (from tensorboard>=2.4.1->ultralytics) (65.6.3)\n",
      "Requirement already satisfied: absl-py>=0.4 in c:\\users\\akash-omen\\anaconda3\\lib\\site-packages (from tensorboard>=2.4.1->ultralytics) (1.4.0)\n",
      "Requirement already satisfied: google-auth-oauthlib<0.5,>=0.4.1 in c:\\users\\akash-omen\\anaconda3\\lib\\site-packages (from tensorboard>=2.4.1->ultralytics) (0.4.6)\n",
      "Requirement already satisfied: grpcio>=1.24.3 in c:\\users\\akash-omen\\anaconda3\\lib\\site-packages (from tensorboard>=2.4.1->ultralytics) (1.51.1)\n",
      "Requirement already satisfied: jinja2 in c:\\users\\akash-omen\\anaconda3\\lib\\site-packages (from torch>=1.7.0->ultralytics) (3.1.2)\n",
      "Requirement already satisfied: sympy in c:\\users\\akash-omen\\anaconda3\\lib\\site-packages (from torch>=1.7.0->ultralytics) (1.11.1)\n",
      "Requirement already satisfied: networkx in c:\\users\\akash-omen\\anaconda3\\lib\\site-packages (from torch>=1.7.0->ultralytics) (2.8.4)\n",
      "Requirement already satisfied: filelock in c:\\users\\akash-omen\\anaconda3\\lib\\site-packages (from torch>=1.7.0->ultralytics) (3.9.0)\n",
      "Requirement already satisfied: typing-extensions in c:\\users\\akash-omen\\anaconda3\\lib\\site-packages (from torch>=1.7.0->ultralytics) (4.4.0)\n",
      "Requirement already satisfied: colorama in c:\\users\\akash-omen\\appdata\\roaming\\python\\python39\\site-packages (from tqdm>=4.64.0->ultralytics) (0.4.4)\n",
      "Requirement already satisfied: pygments in c:\\users\\akash-omen\\anaconda3\\lib\\site-packages (from ipython->ultralytics) (2.11.2)\n",
      "Requirement already satisfied: prompt-toolkit!=3.0.0,!=3.0.1,<3.1.0,>=2.0.0 in c:\\users\\akash-omen\\anaconda3\\lib\\site-packages (from ipython->ultralytics) (3.0.36)\n",
      "Requirement already satisfied: pickleshare in c:\\users\\akash-omen\\anaconda3\\lib\\site-packages (from ipython->ultralytics) (0.7.5)\n",
      "Requirement already satisfied: decorator in c:\\users\\akash-omen\\anaconda3\\lib\\site-packages (from ipython->ultralytics) (5.1.1)\n",
      "Requirement already satisfied: matplotlib-inline in c:\\users\\akash-omen\\anaconda3\\lib\\site-packages (from ipython->ultralytics) (0.1.6)\n",
      "Requirement already satisfied: jedi>=0.16 in c:\\users\\akash-omen\\anaconda3\\lib\\site-packages (from ipython->ultralytics) (0.18.1)\n",
      "Requirement already satisfied: traitlets>=4.2 in c:\\users\\akash-omen\\anaconda3\\lib\\site-packages (from ipython->ultralytics) (5.7.1)\n",
      "Requirement already satisfied: backcall in c:\\users\\akash-omen\\anaconda3\\lib\\site-packages (from ipython->ultralytics) (0.2.0)\n",
      "Requirement already satisfied: smmap<6,>=3.0.1 in c:\\users\\akash-omen\\anaconda3\\lib\\site-packages (from gitdb<5,>=4.0.1->GitPython>=3.1.24->ultralytics) (5.0.0)\n",
      "Requirement already satisfied: pyasn1-modules>=0.2.1 in c:\\users\\akash-omen\\anaconda3\\lib\\site-packages (from google-auth<3,>=1.6.3->tensorboard>=2.4.1->ultralytics) (0.2.8)\n",
      "Requirement already satisfied: rsa<5,>=3.1.4 in c:\\users\\akash-omen\\anaconda3\\lib\\site-packages (from google-auth<3,>=1.6.3->tensorboard>=2.4.1->ultralytics) (4.9)\n",
      "Requirement already satisfied: six>=1.9.0 in c:\\users\\akash-omen\\appdata\\roaming\\python\\python39\\site-packages (from google-auth<3,>=1.6.3->tensorboard>=2.4.1->ultralytics) (1.15.0)\n",
      "Requirement already satisfied: cachetools<6.0,>=2.0.0 in c:\\users\\akash-omen\\anaconda3\\lib\\site-packages (from google-auth<3,>=1.6.3->tensorboard>=2.4.1->ultralytics) (5.3.0)\n",
      "Requirement already satisfied: requests-oauthlib>=0.7.0 in c:\\users\\akash-omen\\anaconda3\\lib\\site-packages (from google-auth-oauthlib<0.5,>=0.4.1->tensorboard>=2.4.1->ultralytics) (1.3.1)\n",
      "Requirement already satisfied: parso<0.9.0,>=0.8.0 in c:\\users\\akash-omen\\anaconda3\\lib\\site-packages (from jedi>=0.16->ipython->ultralytics) (0.8.3)\n",
      "Requirement already satisfied: importlib-metadata>=4.4 in c:\\users\\akash-omen\\anaconda3\\lib\\site-packages (from markdown>=2.6.8->tensorboard>=2.4.1->ultralytics) (4.11.3)\n",
      "Requirement already satisfied: wcwidth in c:\\users\\akash-omen\\anaconda3\\lib\\site-packages (from prompt-toolkit!=3.0.0,!=3.0.1,<3.1.0,>=2.0.0->ipython->ultralytics) (0.2.5)\n",
      "Requirement already satisfied: MarkupSafe>=2.1.1 in c:\\users\\akash-omen\\anaconda3\\lib\\site-packages (from werkzeug>=1.0.1->tensorboard>=2.4.1->ultralytics) (2.1.1)\n",
      "Requirement already satisfied: mpmath>=0.19 in c:\\users\\akash-omen\\anaconda3\\lib\\site-packages (from sympy->torch>=1.7.0->ultralytics) (1.2.1)\n",
      "Requirement already satisfied: zipp>=0.5 in c:\\users\\akash-omen\\anaconda3\\lib\\site-packages (from importlib-metadata>=4.4->markdown>=2.6.8->tensorboard>=2.4.1->ultralytics) (3.11.0)\n",
      "Requirement already satisfied: pyasn1<0.5.0,>=0.4.6 in c:\\users\\akash-omen\\anaconda3\\lib\\site-packages (from pyasn1-modules>=0.2.1->google-auth<3,>=1.6.3->tensorboard>=2.4.1->ultralytics) (0.4.8)\n",
      "Requirement already satisfied: oauthlib>=3.0.0 in c:\\users\\akash-omen\\anaconda3\\lib\\site-packages (from requests-oauthlib>=0.7.0->google-auth-oauthlib<0.5,>=0.4.1->tensorboard>=2.4.1->ultralytics) (3.2.2)\n"
     ]
    }
   ],
   "source": [
    "!pip install ultralytics\n",
    "#for importing yolo-v8"
   ]
  },
  {
   "cell_type": "code",
   "execution_count": 7,
   "metadata": {
    "id": "8Y76036DGEIA"
   },
   "outputs": [],
   "source": [
    "from ultralytics import YOLO"
   ]
  },
  {
   "cell_type": "code",
   "execution_count": null,
   "metadata": {
    "colab": {
     "base_uri": "https://localhost:8080/"
    },
    "collapsed": true,
    "id": "QPtLJlfCGOID",
    "outputId": "8c039033-a82f-44ee-8098-b671466da116"
   },
   "outputs": [
    {
     "name": "stdout",
     "output_type": "stream",
     "text": [
      "Drive already mounted at /content/drive; to attempt to forcibly remount, call drive.mount(\"/content/drive\", force_remount=True).\n"
     ]
    }
   ],
   "source": [
    "from google.colab import drive\n",
    "drive.mount('/content/drive')"
   ]
  },
  {
   "cell_type": "markdown",
   "metadata": {
    "id": "e2pDvZrsiCLn"
   },
   "source": [
    "## Training"
   ]
  },
  {
   "cell_type": "code",
   "execution_count": 8,
   "metadata": {
    "colab": {
     "base_uri": "https://localhost:8080/"
    },
    "id": "FV8hdRhoiEOb",
    "outputId": "a8ffa2ab-b2cb-4608-8ba9-41b56246a9bf"
   },
   "outputs": [
    {
     "name": "stderr",
     "output_type": "stream",
     "text": [
      "Traceback (most recent call last):\n",
      "  File \"C:\\Users\\Akash-OMEN\\anaconda3\\lib\\runpy.py\", line 197, in _run_module_as_main\n",
      "    return _run_code(code, main_globals, None,\n",
      "  File \"C:\\Users\\Akash-OMEN\\anaconda3\\lib\\runpy.py\", line 87, in _run_code\n",
      "    exec(code, run_globals)\n",
      "  File \"C:\\Users\\Akash-OMEN\\anaconda3\\Scripts\\yolo.exe\\__main__.py\", line 7, in <module>\n",
      "  File \"C:\\Users\\Akash-OMEN\\anaconda3\\lib\\site-packages\\ultralytics\\yolo\\cfg\\__init__.py\", line 184, in entrypoint\n",
      "    raise argument_error(a)\n",
      "SyntaxError: '/data.yaml' is not a valid YOLO argument.\n",
      "\n",
      "    YOLOv8 'yolo' CLI commands use the following syntax:\n",
      "\n",
      "        yolo TASK MODE ARGS\n",
      "\n",
      "        Where   TASK (optional) is one of [detect, segment, classify]\n",
      "                MODE (required) is one of [train, val, predict, export]\n",
      "                ARGS (optional) are any number of custom 'arg=value' pairs like 'imgsz=320' that override defaults.\n",
      "                    See all ARGS at https://docs.ultralytics.com/cfg or with 'yolo cfg'\n",
      "\n",
      "    1. Train a detection model for 10 epochs with an initial learning_rate of 0.01\n",
      "        yolo detect train data=coco128.yaml model=yolov8n.pt epochs=10 lr0=0.01\n",
      "\n",
      "    2. Predict a YouTube video using a pretrained segmentation model at image size 320:\n",
      "        yolo segment predict model=yolov8n-seg.pt source=https://youtu.be/Zgi9g1ksQHc imgsz=320\n",
      "\n",
      "    3. Val a pretrained detection model at batch-size 1 and image size 640:\n",
      "        yolo detect val model=yolov8n.pt data=coco128.yaml batch=1 imgsz=640\n",
      "\n",
      "    4. Export a YOLOv8n classification model to ONNX format at image size 224 by 128 (no TASK required)\n",
      "        yolo export model=yolov8n-cls.pt format=onnx imgsz=224,128\n",
      "\n",
      "    5. Run special commands:\n",
      "        yolo help\n",
      "        yolo checks\n",
      "        yolo version\n",
      "        yolo settings\n",
      "        yolo copy-cfg\n",
      "        yolo cfg\n",
      "\n",
      "    Docs: https://docs.ultralytics.com/cli\n",
      "    Community: https://community.ultralytics.com\n",
      "    GitHub: https://github.com/ultralytics/ultralytics\n",
      "    \n",
      "Sentry is attempting to send 2 pending events\n",
      "Waiting up to 2 seconds\n",
      "Press Ctrl-Break to quit\n"
     ]
    }
   ],
   "source": [
    "!yolo task=detect mode=train model=yolov8n.pt data= /data.yaml epochs=200 imgsz=640"
   ]
  },
  {
   "cell_type": "code",
   "execution_count": null,
   "metadata": {
    "id": "sgDQRzTQuTbi"
   },
   "outputs": [],
   "source": []
  }
 ],
 "metadata": {
  "accelerator": "GPU",
  "colab": {
   "gpuType": "T4",
   "provenance": []
  },
  "kernelspec": {
   "display_name": "Python 3 (ipykernel)",
   "language": "python",
   "name": "python3"
  },
  "language_info": {
   "codemirror_mode": {
    "name": "ipython",
    "version": 3
   },
   "file_extension": ".py",
   "mimetype": "text/x-python",
   "name": "python",
   "nbconvert_exporter": "python",
   "pygments_lexer": "ipython3",
   "version": "3.9.16"
  }
 },
 "nbformat": 4,
 "nbformat_minor": 1
}
